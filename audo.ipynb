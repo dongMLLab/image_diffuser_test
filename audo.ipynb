{
 "cells": [
  {
   "cell_type": "code",
   "execution_count": 1,
   "metadata": {},
   "outputs": [],
   "source": [
    "models_map = {\n",
    "\n",
    "    \"glitch-440k\": {'downloaded': False,\n",
    "                         'sha': \"48caefdcbb7b15e1a0b3d08587446936302535de74b0e05e0d61beba865ba00a\", \n",
    "                         'uri_list': [\"https://model-server.zqevans2.workers.dev/gwf-440k.ckpt\"],\n",
    "                         'sample_rate': 48000,\n",
    "                         'sample_size': 65536\n",
    "                         },\n",
    "    \"jmann-small-190k\": {'downloaded': False,\n",
    "                         'sha': \"1e2a23a54e960b80227303d0495247a744fa1296652148da18a4da17c3784e9b\", \n",
    "                         'uri_list': [\"https://model-server.zqevans2.workers.dev/jmann-small-190k.ckpt\"],\n",
    "                         'sample_rate': 48000,\n",
    "                         'sample_size': 65536\n",
    "                         },\n",
    "    \"jmann-large-580k\": {'downloaded': False,\n",
    "                         'sha': \"6b32b5ff1c666c4719da96a12fd15188fa875d6f79f8dd8e07b4d54676afa096\", \n",
    "                         'uri_list': [\"https://model-server.zqevans2.workers.dev/jmann-large-580k.ckpt\"],\n",
    "                         'sample_rate': 48000,\n",
    "                         'sample_size': 131072\n",
    "                         },\n",
    "    \"maestro-150k\": {'downloaded': False,\n",
    "                         'sha': \"49d9abcae642e47c2082cec0b2dce95a45dc6e961805b6500204e27122d09485\", \n",
    "                         'uri_list': [\"https://model-server.zqevans2.workers.dev/maestro-uncond-150k.ckpt\"],\n",
    "                         'sample_rate': 16000,\n",
    "                         'sample_size': 65536\n",
    "                         },\n",
    "    \"unlocked-250k\": {'downloaded': False,\n",
    "                         'sha': \"af337c8416732216eeb52db31dcc0d49a8d48e2b3ecaa524cb854c36b5a3503a\", \n",
    "                         'uri_list': [\"https://model-server.zqevans2.workers.dev/unlocked-uncond-250k.ckpt\"],\n",
    "                         'sample_rate': 16000,\n",
    "                         'sample_size': 65536\n",
    "                         },\n",
    "    \"honk-140k\": {'downloaded': False,\n",
    "                         'sha': \"a66847844659d287f55b7adbe090224d55aeafdd4c2b3e1e1c6a02992cb6e792\", \n",
    "                         'uri_list': [\"https://model-server.zqevans2.workers.dev/honk-140k.ckpt\"],\n",
    "                         'sample_rate': 16000,\n",
    "                         'sample_size': 65536\n",
    "                         },\n",
    "}"
   ]
  },
  {
   "cell_type": "code",
   "execution_count": null,
   "metadata": {},
   "outputs": [],
   "source": [
    "    "
   ]
  }
 ],
 "metadata": {
  "kernelspec": {
   "display_name": "Python 3",
   "language": "python",
   "name": "python3"
  },
  "language_info": {
   "codemirror_mode": {
    "name": "ipython",
    "version": 3
   },
   "file_extension": ".py",
   "mimetype": "text/x-python",
   "name": "python",
   "nbconvert_exporter": "python",
   "pygments_lexer": "ipython3",
   "version": "3.11.6"
  }
 },
 "nbformat": 4,
 "nbformat_minor": 2
}
